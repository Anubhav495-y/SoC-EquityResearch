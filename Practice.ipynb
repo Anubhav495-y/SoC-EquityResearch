{
 "cells": [
  {
   "cell_type": "markdown",
   "id": "1fec9616",
   "metadata": {},
   "source": [
    "# **#Google Stock data with pandas**\n",
    "Implementing basic pandas features on Google stock data\n"
   ]
  },
  {
   "cell_type": "code",
   "execution_count": 50,
   "id": "212fa379",
   "metadata": {},
   "outputs": [],
   "source": [
    "import numpy as np\n",
    "import matplotlib.pyplot as plt\n",
    "import pandas as pd\n"
   ]
  },
  {
   "cell_type": "code",
   "execution_count": 51,
   "id": "7f668d32",
   "metadata": {},
   "outputs": [],
   "source": [
    "df= pd.read_csv('Google_stock_data.csv')"
   ]
  },
  {
   "cell_type": "code",
   "execution_count": 52,
   "id": "0b1de3e2",
   "metadata": {},
   "outputs": [
    {
     "data": {
      "text/html": [
       "<div>\n",
       "<style scoped>\n",
       "    .dataframe tbody tr th:only-of-type {\n",
       "        vertical-align: middle;\n",
       "    }\n",
       "\n",
       "    .dataframe tbody tr th {\n",
       "        vertical-align: top;\n",
       "    }\n",
       "\n",
       "    .dataframe thead th {\n",
       "        text-align: right;\n",
       "    }\n",
       "</style>\n",
       "<table border=\"1\" class=\"dataframe\">\n",
       "  <thead>\n",
       "    <tr style=\"text-align: right;\">\n",
       "      <th></th>\n",
       "      <th>Date</th>\n",
       "      <th>Close</th>\n",
       "      <th>High</th>\n",
       "      <th>Low</th>\n",
       "      <th>Open</th>\n",
       "      <th>Volume</th>\n",
       "    </tr>\n",
       "  </thead>\n",
       "  <tbody>\n",
       "    <tr>\n",
       "      <th>0</th>\n",
       "      <td>2004-08-19</td>\n",
       "      <td>2.484366</td>\n",
       "      <td>2.576470</td>\n",
       "      <td>2.375919</td>\n",
       "      <td>2.475947</td>\n",
       "      <td>897427216</td>\n",
       "    </tr>\n",
       "    <tr>\n",
       "      <th>1</th>\n",
       "      <td>2004-08-20</td>\n",
       "      <td>2.681699</td>\n",
       "      <td>2.700763</td>\n",
       "      <td>2.488327</td>\n",
       "      <td>2.500954</td>\n",
       "      <td>458857488</td>\n",
       "    </tr>\n",
       "    <tr>\n",
       "      <th>2</th>\n",
       "      <td>2004-08-23</td>\n",
       "      <td>2.708686</td>\n",
       "      <td>2.809705</td>\n",
       "      <td>2.700021</td>\n",
       "      <td>2.742112</td>\n",
       "      <td>366857939</td>\n",
       "    </tr>\n",
       "    <tr>\n",
       "      <th>3</th>\n",
       "      <td>2004-08-24</td>\n",
       "      <td>2.596526</td>\n",
       "      <td>2.763156</td>\n",
       "      <td>2.564338</td>\n",
       "      <td>2.754243</td>\n",
       "      <td>306396159</td>\n",
       "    </tr>\n",
       "    <tr>\n",
       "      <th>4</th>\n",
       "      <td>2004-08-25</td>\n",
       "      <td>2.624504</td>\n",
       "      <td>2.674023</td>\n",
       "      <td>2.572014</td>\n",
       "      <td>2.598754</td>\n",
       "      <td>184645512</td>\n",
       "    </tr>\n",
       "  </tbody>\n",
       "</table>\n",
       "</div>"
      ],
      "text/plain": [
       "         Date     Close      High       Low      Open     Volume\n",
       "0  2004-08-19  2.484366  2.576470  2.375919  2.475947  897427216\n",
       "1  2004-08-20  2.681699  2.700763  2.488327  2.500954  458857488\n",
       "2  2004-08-23  2.708686  2.809705  2.700021  2.742112  366857939\n",
       "3  2004-08-24  2.596526  2.763156  2.564338  2.754243  306396159\n",
       "4  2004-08-25  2.624504  2.674023  2.572014  2.598754  184645512"
      ]
     },
     "execution_count": 52,
     "metadata": {},
     "output_type": "execute_result"
    }
   ],
   "source": [
    "df.head()"
   ]
  },
  {
   "cell_type": "markdown",
   "id": "de18f46b",
   "metadata": {},
   "source": [
    "Data contains daily HLOC and volume of google's stock data history\n",
    "With pandas we can try graphing 'close' value with time and find some correlation with volume"
   ]
  },
  {
   "cell_type": "code",
   "execution_count": 53,
   "id": "83501ff3",
   "metadata": {},
   "outputs": [
    {
     "data": {
      "text/html": [
       "<div>\n",
       "<style scoped>\n",
       "    .dataframe tbody tr th:only-of-type {\n",
       "        vertical-align: middle;\n",
       "    }\n",
       "\n",
       "    .dataframe tbody tr th {\n",
       "        vertical-align: top;\n",
       "    }\n",
       "\n",
       "    .dataframe thead th {\n",
       "        text-align: right;\n",
       "    }\n",
       "</style>\n",
       "<table border=\"1\" class=\"dataframe\">\n",
       "  <thead>\n",
       "    <tr style=\"text-align: right;\">\n",
       "      <th></th>\n",
       "      <th>Close</th>\n",
       "      <th>High</th>\n",
       "      <th>Low</th>\n",
       "      <th>Open</th>\n",
       "      <th>Volume</th>\n",
       "    </tr>\n",
       "    <tr>\n",
       "      <th>Date</th>\n",
       "      <th></th>\n",
       "      <th></th>\n",
       "      <th></th>\n",
       "      <th></th>\n",
       "      <th></th>\n",
       "    </tr>\n",
       "  </thead>\n",
       "  <tbody>\n",
       "    <tr>\n",
       "      <th>2004-08-19</th>\n",
       "      <td>2.484366</td>\n",
       "      <td>2.576470</td>\n",
       "      <td>2.375919</td>\n",
       "      <td>2.475947</td>\n",
       "      <td>897427216</td>\n",
       "    </tr>\n",
       "    <tr>\n",
       "      <th>2004-08-20</th>\n",
       "      <td>2.681699</td>\n",
       "      <td>2.700763</td>\n",
       "      <td>2.488327</td>\n",
       "      <td>2.500954</td>\n",
       "      <td>458857488</td>\n",
       "    </tr>\n",
       "    <tr>\n",
       "      <th>2004-08-23</th>\n",
       "      <td>2.708686</td>\n",
       "      <td>2.809705</td>\n",
       "      <td>2.700021</td>\n",
       "      <td>2.742112</td>\n",
       "      <td>366857939</td>\n",
       "    </tr>\n",
       "    <tr>\n",
       "      <th>2004-08-24</th>\n",
       "      <td>2.596526</td>\n",
       "      <td>2.763156</td>\n",
       "      <td>2.564338</td>\n",
       "      <td>2.754243</td>\n",
       "      <td>306396159</td>\n",
       "    </tr>\n",
       "    <tr>\n",
       "      <th>2004-08-25</th>\n",
       "      <td>2.624504</td>\n",
       "      <td>2.674023</td>\n",
       "      <td>2.572014</td>\n",
       "      <td>2.598754</td>\n",
       "      <td>184645512</td>\n",
       "    </tr>\n",
       "  </tbody>\n",
       "</table>\n",
       "</div>"
      ],
      "text/plain": [
       "               Close      High       Low      Open     Volume\n",
       "Date                                                         \n",
       "2004-08-19  2.484366  2.576470  2.375919  2.475947  897427216\n",
       "2004-08-20  2.681699  2.700763  2.488327  2.500954  458857488\n",
       "2004-08-23  2.708686  2.809705  2.700021  2.742112  366857939\n",
       "2004-08-24  2.596526  2.763156  2.564338  2.754243  306396159\n",
       "2004-08-25  2.624504  2.674023  2.572014  2.598754  184645512"
      ]
     },
     "execution_count": 53,
     "metadata": {},
     "output_type": "execute_result"
    }
   ],
   "source": [
    "df['Date'] = pd.to_datetime(df['Date'])\n",
    "df.set_index(\"Date\",inplace=True)\n",
    "df.sort_index(inplace=True)\n",
    "df.head()"
   ]
  },
  {
   "cell_type": "markdown",
   "id": "884b79a1",
   "metadata": {},
   "source": [
    "First we made Date column as index which will be useful when we try to plot date vs close data"
   ]
  },
  {
   "cell_type": "code",
   "execution_count": 54,
   "id": "dd7f4122",
   "metadata": {},
   "outputs": [
    {
     "data": {
      "text/html": [
       "<div>\n",
       "<style scoped>\n",
       "    .dataframe tbody tr th:only-of-type {\n",
       "        vertical-align: middle;\n",
       "    }\n",
       "\n",
       "    .dataframe tbody tr th {\n",
       "        vertical-align: top;\n",
       "    }\n",
       "\n",
       "    .dataframe thead th {\n",
       "        text-align: right;\n",
       "    }\n",
       "</style>\n",
       "<table border=\"1\" class=\"dataframe\">\n",
       "  <thead>\n",
       "    <tr style=\"text-align: right;\">\n",
       "      <th></th>\n",
       "      <th>Close</th>\n",
       "      <th>High</th>\n",
       "      <th>Low</th>\n",
       "      <th>Open</th>\n",
       "      <th>Volume</th>\n",
       "    </tr>\n",
       "  </thead>\n",
       "  <tbody>\n",
       "    <tr>\n",
       "      <th>count</th>\n",
       "      <td>5236.000000</td>\n",
       "      <td>5236.000000</td>\n",
       "      <td>5236.000000</td>\n",
       "      <td>5236.000000</td>\n",
       "      <td>5.236000e+03</td>\n",
       "    </tr>\n",
       "    <tr>\n",
       "      <th>mean</th>\n",
       "      <td>50.249587</td>\n",
       "      <td>50.770229</td>\n",
       "      <td>49.716704</td>\n",
       "      <td>50.229034</td>\n",
       "      <td>1.118417e+08</td>\n",
       "    </tr>\n",
       "    <tr>\n",
       "      <th>std</th>\n",
       "      <td>49.286758</td>\n",
       "      <td>49.824315</td>\n",
       "      <td>48.750982</td>\n",
       "      <td>49.258949</td>\n",
       "      <td>1.478910e+08</td>\n",
       "    </tr>\n",
       "    <tr>\n",
       "      <th>min</th>\n",
       "      <td>2.476194</td>\n",
       "      <td>2.519029</td>\n",
       "      <td>2.375919</td>\n",
       "      <td>2.455892</td>\n",
       "      <td>1.584340e+05</td>\n",
       "    </tr>\n",
       "    <tr>\n",
       "      <th>25%</th>\n",
       "      <td>13.131185</td>\n",
       "      <td>13.284198</td>\n",
       "      <td>13.005592</td>\n",
       "      <td>13.147650</td>\n",
       "      <td>2.629000e+07</td>\n",
       "    </tr>\n",
       "    <tr>\n",
       "      <th>50%</th>\n",
       "      <td>28.056242</td>\n",
       "      <td>28.353655</td>\n",
       "      <td>27.808151</td>\n",
       "      <td>28.110273</td>\n",
       "      <td>5.033702e+07</td>\n",
       "    </tr>\n",
       "    <tr>\n",
       "      <th>75%</th>\n",
       "      <td>68.939335</td>\n",
       "      <td>69.440475</td>\n",
       "      <td>67.325054</td>\n",
       "      <td>68.567053</td>\n",
       "      <td>1.359798e+08</td>\n",
       "    </tr>\n",
       "    <tr>\n",
       "      <th>max</th>\n",
       "      <td>207.224548</td>\n",
       "      <td>208.212225</td>\n",
       "      <td>203.782599</td>\n",
       "      <td>204.022044</td>\n",
       "      <td>1.650833e+09</td>\n",
       "    </tr>\n",
       "  </tbody>\n",
       "</table>\n",
       "</div>"
      ],
      "text/plain": [
       "             Close         High          Low         Open        Volume\n",
       "count  5236.000000  5236.000000  5236.000000  5236.000000  5.236000e+03\n",
       "mean     50.249587    50.770229    49.716704    50.229034  1.118417e+08\n",
       "std      49.286758    49.824315    48.750982    49.258949  1.478910e+08\n",
       "min       2.476194     2.519029     2.375919     2.455892  1.584340e+05\n",
       "25%      13.131185    13.284198    13.005592    13.147650  2.629000e+07\n",
       "50%      28.056242    28.353655    27.808151    28.110273  5.033702e+07\n",
       "75%      68.939335    69.440475    67.325054    68.567053  1.359798e+08\n",
       "max     207.224548   208.212225   203.782599   204.022044  1.650833e+09"
      ]
     },
     "execution_count": 54,
     "metadata": {},
     "output_type": "execute_result"
    }
   ],
   "source": [
    "df.describe()"
   ]
  },
  {
   "cell_type": "code",
   "execution_count": 55,
   "id": "aba291df",
   "metadata": {},
   "outputs": [
    {
     "data": {
      "text/plain": [
       "<Axes: xlabel='Date'>"
      ]
     },
     "execution_count": 55,
     "metadata": {},
     "output_type": "execute_result"
    },
    {
     "data": {
      "image/png": "[encoded data removed]",
      "text/plain": [
       "<Figure size 640x480 with 1 Axes>"
      ]
     },
     "metadata": {},
     "output_type": "display_data"
    }
   ],
   "source": [
    "df_200MA=df[\"Close\"].rolling(200).mean()\n",
    "df_100MA=df[\"Close\"].rolling(100).mean()\n",
    "df_100MA.plot()\n",
    "df_200MA.plot()\n"
   ]
  },
  {
   "cell_type": "code",
   "execution_count": 63,
   "id": "23859999",
   "metadata": {},
   "outputs": [
    {
     "name": "stderr",
     "output_type": "stream",
     "text": [
      "C:\\Users\\Dell\\AppData\\Local\\Temp\\ipykernel_27604\\2189948239.py:1: FutureWarning: 'Y' is deprecated and will be removed in a future version, please use 'YE' instead.\n",
      "  quat_data=df[\"Volume\"].copy().resample(\"Y\").sum()\n"
     ]
    },
    {
     "data": {
      "text/plain": [
       "<Axes: xlabel='Date'>"
      ]
     },
     "execution_count": 63,
     "metadata": {},
     "output_type": "execute_result"
    },
    {
     "data": {
      "image/png": "[encoded data removed]",
      "text/plain": [
       "<Figure size 640x480 with 1 Axes>"
      ]
     },
     "metadata": {},
     "output_type": "display_data"
    }
   ],
   "source": [
    "quat_data=df[\"Volume\"].copy().resample(\"Y\").sum()\n",
    "quat_data.plot(kind=\"bar\")"
   ]
  },
  {
   "cell_type": "markdown",
   "id": "70ca930c",
   "metadata": {},
   "source": [
    "Had to resample with yearly data as it was not visually descriptive using a daily or even a quarterly data \n",
    "Using the above graphs we can further proceed with techinal analysis"
   ]
  },
  {
   "cell_type": "code",
   "execution_count": null,
   "id": "f016bc4d",
   "metadata": {},
   "outputs": [],
   "source": []
  }
 ],
 "metadata": {
  "kernelspec": {
   "display_name": "Python 3",
   "language": "python",
   "name": "python3"
  },
  "language_info": {
   "codemirror_mode": {
    "name": "ipython",
    "version": 3
   },
   "file_extension": ".py",
   "mimetype": "text/x-python",
   "name": "python",
   "nbconvert_exporter": "python",
   "pygments_lexer": "ipython3",
   "version": "3.13.1"
  }
 },
 "nbformat": 4,
 "nbformat_minor": 5
}
